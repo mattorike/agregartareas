{
  "nbformat": 4,
  "nbformat_minor": 0,
  "metadata": {
    "colab": {
      "provenance": [],
      "authorship_tag": "ABX9TyO53R5ZxFG0HxbXfZUdbivK",
      "include_colab_link": true
    },
    "kernelspec": {
      "name": "python3",
      "display_name": "Python 3"
    },
    "language_info": {
      "name": "python"
    }
  },
  "cells": [
    {
      "cell_type": "markdown",
      "metadata": {
        "id": "view-in-github",
        "colab_type": "text"
      },
      "source": [
        "<a href=\"https://colab.research.google.com/github/mattorike/agregartareas/blob/main/prueba%20de%20%20inteligencia%20artificial.ipynb\" target=\"_parent\"><img src=\"https://colab.research.google.com/assets/colab-badge.svg\" alt=\"Open In Colab\"/></a>"
      ]
    },
    {
      "cell_type": "code",
      "execution_count": 1,
      "metadata": {
        "id": "WgDIc2uu9ICa"
      },
      "outputs": [],
      "source": [
        "import tensorflow as tf\n",
        "import tensorflow_datasets as tfds"
      ]
    },
    {
      "cell_type": "code",
      "source": [
        "datos, metadatos = tfds.load('fashion_mnist', as_supervised=True, with_info=True)"
      ],
      "metadata": {
        "id": "6TZDu_7a9UOr"
      },
      "execution_count": 2,
      "outputs": []
    },
    {
      "cell_type": "code",
      "source": [
        "datos_entrenamiento, datos_pruebas = datos ['train'], datos ['test']"
      ],
      "metadata": {
        "id": "vsmwoKy-9gVC"
      },
      "execution_count": 3,
      "outputs": []
    },
    {
      "cell_type": "code",
      "source": [
        "nombres_clases = metadatos.features ['label'].names"
      ],
      "metadata": {
        "id": "_OK_id8J9lHp"
      },
      "execution_count": 4,
      "outputs": []
    },
    {
      "cell_type": "code",
      "source": [
        "def normalizar (imagenes, etiquetas):\n",
        "  imagenes = tf.cast (imagenes, tf.float32)\n",
        "  imagenes /= 255 \n",
        "  return imagenes, etiquetas\n",
        "\n",
        "  datos_entrenamiento = datos_entrenamiento.map(normalizar)\n",
        "  datos_pruebas = datos_pruebas.map(normalizar)\n",
        "\n",
        "datos_entrenamiento = datos_entrenamiento.cache()\n",
        "datos_pruebas = datos_pruebas.cache()"
      ],
      "metadata": {
        "id": "3BmVNkhV9ph6"
      },
      "execution_count": 5,
      "outputs": []
    },
    {
      "cell_type": "code",
      "source": [
        "for imagen, etiqueta in datos_entrenamiento.take(1):\n",
        "  break\n",
        "  imagen = imagen.numpy().reshape ((28,28))\n",
        "  \n",
        " \n",
        "\n"
      ],
      "metadata": {
        "id": "HRxcDb4p9vQK"
      },
      "execution_count": 13,
      "outputs": []
    },
    {
      "cell_type": "code",
      "source": [
        "for imagen, etiqueta in datos_entrenamiento.take(1):\n",
        "  break\n",
        "import matplotlib.pyplot as plt\n",
        "\n",
        "plt.figure()\n",
        "plt.imshow(imagen, cmap=plt.cm.binary)\n",
        "plt.colorbar()\n",
        "plt.grid()\n",
        "plt.show()"
      ],
      "metadata": {
        "colab": {
          "base_uri": "https://localhost:8080/",
          "height": 430
        },
        "id": "wIz9bQIcAwDL",
        "outputId": "309f233d-15a2-41db-8746-75b8b423433d"
      },
      "execution_count": 17,
      "outputs": [
        {
          "output_type": "display_data",
          "data": {
            "text/plain": [
              "<Figure size 640x480 with 2 Axes>"
            ],
            "image/png": "[encoded data removed]"
          },
          "metadata": {}
        }
      ]
    },
    {
      "cell_type": "code",
      "source": [],
      "metadata": {
        "id": "kKsK7FAWBaTw"
      },
      "execution_count": null,
      "outputs": []
    }
  ]
}